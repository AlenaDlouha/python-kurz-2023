{
 "cells": [
  {
   "cell_type": "code",
   "execution_count": 15,
   "metadata": {},
   "outputs": [
    {
     "data": {
      "text/html": [
       "<div>\n",
       "<style scoped>\n",
       "    .dataframe tbody tr th:only-of-type {\n",
       "        vertical-align: middle;\n",
       "    }\n",
       "\n",
       "    .dataframe tbody tr th {\n",
       "        vertical-align: top;\n",
       "    }\n",
       "\n",
       "    .dataframe thead th {\n",
       "        text-align: right;\n",
       "    }\n",
       "</style>\n",
       "<table border=\"1\" class=\"dataframe\">\n",
       "  <thead>\n",
       "    <tr style=\"text-align: right;\">\n",
       "      <th></th>\n",
       "      <th>jméno</th>\n",
       "      <th>četnost</th>\n",
       "      <th>věk</th>\n",
       "      <th>pohlaví</th>\n",
       "      <th>svátek</th>\n",
       "      <th>původ</th>\n",
       "    </tr>\n",
       "  </thead>\n",
       "  <tbody>\n",
       "    <tr>\n",
       "      <th>0</th>\n",
       "      <td>Jiří</td>\n",
       "      <td>296090</td>\n",
       "      <td>49</td>\n",
       "      <td>m</td>\n",
       "      <td>24.4</td>\n",
       "      <td>řecký</td>\n",
       "    </tr>\n",
       "    <tr>\n",
       "      <th>1</th>\n",
       "      <td>Jan</td>\n",
       "      <td>293938</td>\n",
       "      <td>40</td>\n",
       "      <td>m</td>\n",
       "      <td>24.6. a 6.7</td>\n",
       "      <td>hebrejský</td>\n",
       "    </tr>\n",
       "    <tr>\n",
       "      <th>2</th>\n",
       "      <td>Petr</td>\n",
       "      <td>272135</td>\n",
       "      <td>42</td>\n",
       "      <td>m</td>\n",
       "      <td>22.2. a 29.6</td>\n",
       "      <td>řecký</td>\n",
       "    </tr>\n",
       "    <tr>\n",
       "      <th>3</th>\n",
       "      <td>Jana</td>\n",
       "      <td>264944</td>\n",
       "      <td>50</td>\n",
       "      <td>ž</td>\n",
       "      <td>24.5</td>\n",
       "      <td>hebrejský</td>\n",
       "    </tr>\n",
       "    <tr>\n",
       "      <th>4</th>\n",
       "      <td>Marie</td>\n",
       "      <td>260526</td>\n",
       "      <td>65</td>\n",
       "      <td>ž</td>\n",
       "      <td>12.9</td>\n",
       "      <td>hebrejský</td>\n",
       "    </tr>\n",
       "    <tr>\n",
       "      <th>...</th>\n",
       "      <td>...</td>\n",
       "      <td>...</td>\n",
       "      <td>...</td>\n",
       "      <td>...</td>\n",
       "      <td>...</td>\n",
       "      <td>...</td>\n",
       "    </tr>\n",
       "    <tr>\n",
       "      <th>95</th>\n",
       "      <td>Jindřich</td>\n",
       "      <td>26230</td>\n",
       "      <td>51</td>\n",
       "      <td>m</td>\n",
       "      <td>15.7</td>\n",
       "      <td>německý</td>\n",
       "    </tr>\n",
       "    <tr>\n",
       "      <th>96</th>\n",
       "      <td>Vlastimil</td>\n",
       "      <td>26014</td>\n",
       "      <td>54</td>\n",
       "      <td>m</td>\n",
       "      <td>17.3</td>\n",
       "      <td>slovanský</td>\n",
       "    </tr>\n",
       "    <tr>\n",
       "      <th>97</th>\n",
       "      <td>Iva</td>\n",
       "      <td>26003</td>\n",
       "      <td>46</td>\n",
       "      <td>ž</td>\n",
       "      <td>1.12</td>\n",
       "      <td>slovanský</td>\n",
       "    </tr>\n",
       "    <tr>\n",
       "      <th>98</th>\n",
       "      <td>Miloš</td>\n",
       "      <td>25509</td>\n",
       "      <td>53</td>\n",
       "      <td>m</td>\n",
       "      <td>25.1</td>\n",
       "      <td>slovanský</td>\n",
       "    </tr>\n",
       "    <tr>\n",
       "      <th>99</th>\n",
       "      <td>Zdenka</td>\n",
       "      <td>25416</td>\n",
       "      <td>68</td>\n",
       "      <td>ž</td>\n",
       "      <td>23.6</td>\n",
       "      <td>slovanský</td>\n",
       "    </tr>\n",
       "  </tbody>\n",
       "</table>\n",
       "<p>100 rows × 6 columns</p>\n",
       "</div>"
      ],
      "text/plain": [
       "        jméno  četnost  věk pohlaví        svátek      původ\n",
       "0        Jiří   296090   49       m          24.4      řecký\n",
       "1         Jan   293938   40       m   24.6. a 6.7  hebrejský\n",
       "2        Petr   272135   42       m  22.2. a 29.6      řecký\n",
       "3        Jana   264944   50       ž          24.5  hebrejský\n",
       "4       Marie   260526   65       ž          12.9  hebrejský\n",
       "..        ...      ...  ...     ...           ...        ...\n",
       "95   Jindřich    26230   51       m          15.7    německý\n",
       "96  Vlastimil    26014   54       m          17.3  slovanský\n",
       "97        Iva    26003   46       ž          1.12  slovanský\n",
       "98      Miloš    25509   53       m          25.1  slovanský\n",
       "99     Zdenka    25416   68       ž          23.6  slovanský\n",
       "\n",
       "[100 rows x 6 columns]"
      ]
     },
     "execution_count": 15,
     "metadata": {},
     "output_type": "execute_result"
    }
   ],
   "source": [
    "import pandas \n",
    "jmena = pandas.read_csv(\"jmena.csv\")\n",
    "jmena"
   ]
  },
  {
   "cell_type": "code",
   "execution_count": null,
   "metadata": {},
   "outputs": [],
   "source": [
    "jmena.columns = [\"jmeno\", \"cetnost\", \"vek\", \"pohlavi\", \"svatek\", \"puvod\"]\n",
    "jmena[jmena[\"věk\"] > 60]"
   ]
  },
  {
   "cell_type": "code",
   "execution_count": null,
   "metadata": {},
   "outputs": [],
   "source": [
    "jmena[(jmena[\"četnost\"] > 80_000) & (jmena[\"četnost\"] < 100_000)]"
   ]
  },
  {
   "cell_type": "code",
   "execution_count": 16,
   "metadata": {},
   "outputs": [
    {
     "name": "stdout",
     "output_type": "stream",
     "text": [
      "Jmen je 52.\n"
     ]
    }
   ],
   "source": [
    "vybrana_jmena = jmena[jmena[\"původ\"].isin([\"slovanský\", \"hebrejský\"])]\n",
    "# print(vybrana_jmena[[\"jméno\", \"četnost\"]])\n",
    "\n",
    "print(f\"Jmen je {vybrana_jmena.shape[0]}.\")"
   ]
  },
  {
   "cell_type": "code",
   "execution_count": 18,
   "metadata": {},
   "outputs": [],
   "source": [
    "vybrana_jmena = jmena[~jmena[\"původ\"].isin([\"slovanský\", \"hebrejský\"])]"
   ]
  },
  {
   "cell_type": "code",
   "execution_count": null,
   "metadata": {},
   "outputs": [],
   "source": [
    "prosinec_jmena = jmena[jmena[\"svátek\"].isin([\"1.12\", \"2.12\", \"3.12\"])]\n",
    "\n",
    "print(prosinec_jmena[[\"jméno\", \"svátek\"]].sort_values(\"svátek\"))\n",
    "\n",
    "## Kontrola: 3.12 má podle kalendře svátek Svatoslav\n",
    "# jmena[jmena[\"jméno\"]==\"Svatoslav\"] ## v tabulce Svatoslava nemáme"
   ]
  },
  {
   "cell_type": "markdown",
   "metadata": {},
   "source": [
    "https://kodim.cz/analyza-dat/python-data-1/python-pro-data-1/podmineny-vyber/podmineny-vyber\n",
    "\n",
    "https://kodim.cz/analyza-dat/python-data-1/python-pro-data-1/podmineny-vyber/podmineny-vyber/ceska-jmena-2\n",
    "\n",
    "https://kodim.cz/analyza-dat/python-data-1/python-pro-data-1/agregace-a-spojovani/pokrocile-upravy\n",
    "\n",
    "https://kodim.cz/analyza-dat/python-data-1/python-pro-data-1/nacteni-dat/nacteni-dat\n",
    "\n",
    "\n"
   ]
  }
 ],
 "metadata": {
  "kernelspec": {
   "display_name": "Python 3",
   "language": "python",
   "name": "python3"
  },
  "language_info": {
   "codemirror_mode": {
    "name": "ipython",
    "version": 3
   },
   "file_extension": ".py",
   "mimetype": "text/x-python",
   "name": "python",
   "nbconvert_exporter": "python",
   "pygments_lexer": "ipython3",
   "version": "3.9.10"
  }
 },
 "nbformat": 4,
 "nbformat_minor": 2
}
