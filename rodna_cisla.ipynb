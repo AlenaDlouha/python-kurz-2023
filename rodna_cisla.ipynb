{
 "cells": [
  {
   "cell_type": "code",
   "execution_count": null,
   "metadata": {},
   "outputs": [],
   "source": [
    "def preved_rc_na_datum_narozeni(rodne_cislo: str):\n",
    "    # Funkce pro převod rodného čísla na datum narození\n",
    "    # Rozdělení RC na části\n",
    "    rc_split = rodne_cislo.split(\"/\")\n",
    "    if len(rc_split) != 2:\n",
    "        return \"Invalid format\"\n",
    "\n",
    "    # Rozdělení první části na rok, měsíc a den\n",
    "    year = rc_split[0][:2]\n",
    "    month = rc_split[0][2:4]\n",
    "    day = rc_split[0][4:6]\n",
    "\n",
    "    # Úprava roku a měsíce pro lidi narozené po roce 2000 a ženy\n",
    "    if int(year) >= 54:\n",
    "        year = \"19\" + year\n",
    "    else:\n",
    "        year = \"20\" + year\n",
    "\n",
    "    if int(month) > 50:\n",
    "        month = str(int(month) - 50).zfill(2)\n",
    "\n",
    "    return f\"{day}.{month}.{year}\""
   ]
  }
 ],
 "metadata": {
  "language_info": {
   "name": "python"
  }
 },
 "nbformat": 4,
 "nbformat_minor": 2
}
